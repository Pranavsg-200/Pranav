{
  "nbformat": 4,
  "nbformat_minor": 0,
  "metadata": {
    "colab": {
      "provenance": [],
      "collapsed_sections": [],
      "include_colab_link": true
    },
    "kernelspec": {
      "name": "python3",
      "display_name": "Python 3"
    },
    "language_info": {
      "name": "python"
    }
  },
  "cells": [
    {
      "cell_type": "markdown",
      "metadata": {
        "id": "view-in-github",
        "colab_type": "text"
      },
      "source": [
        "<a href=\"https://colab.research.google.com/github/Pranavsg-200/Pranav/blob/main/Hands_on_python.ipynb\" target=\"_parent\"><img src=\"https://colab.research.google.com/assets/colab-badge.svg\" alt=\"Open In Colab\"/></a>"
      ]
    },
    {
      "cell_type": "markdown",
      "source": [
        "## MINI PROJECT 1 : ##\n",
        "### Using Python to download YouTube videos without Internet ###\n"
      ],
      "metadata": {
        "id": "qGYSl4o5HZ5K"
      }
    },
    {
      "cell_type": "code",
      "source": [
        "!pip install pytube"
      ],
      "metadata": {
        "colab": {
          "base_uri": "https://localhost:8080/"
        },
        "id": "GDHYCeFj48B5",
        "outputId": "19099769-b1c6-48d7-c6b7-bddd58b6bb46"
      },
      "execution_count": null,
      "outputs": [
        {
          "output_type": "stream",
          "name": "stdout",
          "text": [
            "Looking in indexes: https://pypi.org/simple, https://us-python.pkg.dev/colab-wheels/public/simple/\n",
            "Collecting pytube\n",
            "  Downloading pytube-12.1.0-py3-none-any.whl (56 kB)\n",
            "\u001b[K     |████████████████████████████████| 56 kB 2.5 MB/s \n",
            "\u001b[?25hInstalling collected packages: pytube\n",
            "Successfully installed pytube-12.1.0\n"
          ]
        }
      ]
    },
    {
      "cell_type": "code",
      "source": [
        "from pytube import YouTube\n",
        "from sys import argv"
      ],
      "metadata": {
        "id": "PgPIOR5J5zyh"
      },
      "execution_count": null,
      "outputs": []
    },
    {
      "cell_type": "code",
      "source": [
        "yt = YouTube('https://youtu.be/PKtnafFtfEo')\n",
        "yt.title"
      ],
      "metadata": {
        "colab": {
          "base_uri": "https://localhost:8080/",
          "height": 35
        },
        "id": "TPvbxs6s5-1L",
        "outputId": "a0f2d2a7-af92-4673-ab50-a1b61926998b"
      },
      "execution_count": null,
      "outputs": [
        {
          "output_type": "execute_result",
          "data": {
            "text/plain": [
              "\"Youtube Rewind 2020, Thank God It's Over\""
            ],
            "application/vnd.google.colaboratory.intrinsic+json": {
              "type": "string"
            }
          },
          "metadata": {},
          "execution_count": 5
        }
      ]
    },
    {
      "cell_type": "code",
      "source": [
        "yt.thumbnail_url"
      ],
      "metadata": {
        "colab": {
          "base_uri": "https://localhost:8080/",
          "height": 35
        },
        "id": "CvFUaRiCJGrV",
        "outputId": "955d016c-f216-46b5-b1c8-bf719596078d"
      },
      "execution_count": null,
      "outputs": [
        {
          "output_type": "execute_result",
          "data": {
            "text/plain": [
              "'https://i.ytimg.com/vi/PKtnafFtfEo/sddefault.jpg'"
            ],
            "application/vnd.google.colaboratory.intrinsic+json": {
              "type": "string"
            }
          },
          "metadata": {},
          "execution_count": 6
        }
      ]
    },
    {
      "cell_type": "code",
      "source": [],
      "metadata": {
        "id": "mW4bSXiMKn9y"
      },
      "execution_count": null,
      "outputs": []
    },
    {
      "cell_type": "markdown",
      "source": [
        "**First Program in Python** \n",
        "\n",
        "---\n",
        "\n"
      ],
      "metadata": {
        "id": "b3Iqu4OOZ_SC"
      }
    },
    {
      "cell_type": "code",
      "source": [
        "print(\"Hello World!\")"
      ],
      "metadata": {
        "id": "3dAk-qXW6Irm",
        "colab": {
          "base_uri": "https://localhost:8080/"
        },
        "outputId": "94878858-38ea-41d0-e417-d225579952b5"
      },
      "execution_count": null,
      "outputs": [
        {
          "output_type": "stream",
          "name": "stdout",
          "text": [
            "Hello World!\n"
          ]
        }
      ]
    },
    {
      "cell_type": "markdown",
      "source": [
        "**Variables**\n",
        "\n",
        "---\n",
        "\n"
      ],
      "metadata": {
        "id": "0oDTcinr3E4f"
      }
    },
    {
      "cell_type": "markdown",
      "source": [
        "Example 1:"
      ],
      "metadata": {
        "id": "FSPfRcr2aFyz"
      }
    },
    {
      "cell_type": "code",
      "source": [
        "name = \"Pranav\"\n",
        "age = 20\n",
        "print(name)\n",
        "print(age)"
      ],
      "metadata": {
        "colab": {
          "base_uri": "https://localhost:8080/"
        },
        "id": "hrZpocN8ZqKZ",
        "outputId": "4e2ab372-59dd-4056-d4eb-50e8efbc54ab"
      },
      "execution_count": null,
      "outputs": [
        {
          "output_type": "stream",
          "name": "stdout",
          "text": [
            "Pranav\n",
            "20\n"
          ]
        }
      ]
    },
    {
      "cell_type": "markdown",
      "source": [
        "Example 2:"
      ],
      "metadata": {
        "id": "q3GOcSfB3M9q"
      }
    },
    {
      "cell_type": "code",
      "source": [
        "name = 'Pranav'\n",
        "age = 20\n",
        "\n",
        "name = 'Yash'\n",
        "age = 21\n",
        "print(name)\n",
        "print(age)"
      ],
      "metadata": {
        "colab": {
          "base_uri": "https://localhost:8080/"
        },
        "id": "MRIPZBdt3Bs6",
        "outputId": "67254461-d64a-421e-e6dc-dfc48bcf64e4"
      },
      "execution_count": null,
      "outputs": [
        {
          "output_type": "stream",
          "name": "stdout",
          "text": [
            "Yash\n",
            "21\n"
          ]
        }
      ]
    },
    {
      "cell_type": "markdown",
      "source": [
        "Example 3:"
      ],
      "metadata": {
        "id": "hP4WMz8c3jnv"
      }
    },
    {
      "cell_type": "code",
      "source": [
        "first_name = \"Salman\"\n",
        "last_name = \"khan\"\n",
        "age = 19\n",
        "is_adult = True\n",
        "\n",
        "print(first_name + \" \" + last_name)\n",
        "print(age)\n",
        "print(is_adult)\n"
      ],
      "metadata": {
        "colab": {
          "base_uri": "https://localhost:8080/"
        },
        "id": "sEKL3Zup3q-L",
        "outputId": "4ed72d60-fc1e-4a44-a046-8b3ab9982191"
      },
      "execution_count": null,
      "outputs": [
        {
          "output_type": "stream",
          "name": "stdout",
          "text": [
            "Salman khan\n",
            "19\n",
            "True\n"
          ]
        }
      ]
    },
    {
      "cell_type": "markdown",
      "source": [
        "**Python Identifiers**\n",
        "\n",
        "---\n",
        "\n"
      ],
      "metadata": {
        "id": "7mXrVcycdgPO"
      }
    },
    {
      "cell_type": "code",
      "source": [
        "age = 24\n",
        "name = 'Pranav'\n",
        "\n",
        "print(age)"
      ],
      "metadata": {
        "colab": {
          "base_uri": "https://localhost:8080/"
        },
        "id": "IQ9ZVf5udmeT",
        "outputId": "c1fb6de0-f799-42f7-f295-54b773190d38"
      },
      "execution_count": 1,
      "outputs": [
        {
          "output_type": "stream",
          "name": "stdout",
          "text": [
            "24\n"
          ]
        }
      ]
    },
    {
      "cell_type": "markdown",
      "source": [
        "**Data Type**\n",
        "\n",
        "---\n",
        "\n"
      ],
      "metadata": {
        "id": "KebGITOKe22u"
      }
    },
    {
      "cell_type": "code",
      "source": [
        "rating = 4.7\n",
        "print(rating, type(rating))\n",
        "\n",
        "name = \"Pranav\"\n",
        "print(name, type(name))\n",
        "\n",
        "marks = 98\n",
        "print(marks, type(marks))\n",
        "\n",
        "is_passed = True\n",
        "print(is_passed, type(is_passed))\n",
        "\n",
        "\n",
        "my_complex_number = 4 + 5j\n",
        "print(my_complex_number, type(my_complex_number))\n",
        "\n",
        "fruits_list = ['Apple', 'Banana', 'Kiwi']\n",
        "print(fruits_list, type(fruits_list))"
      ],
      "metadata": {
        "colab": {
          "base_uri": "https://localhost:8080/"
        },
        "id": "h9qH_YnGe7Z2",
        "outputId": "ddfec423-7b52-4795-bdf9-279063a4df93"
      },
      "execution_count": 3,
      "outputs": [
        {
          "output_type": "stream",
          "name": "stdout",
          "text": [
            "4.7 <class 'float'>\n",
            "Pranav <class 'str'>\n",
            "98 <class 'int'>\n",
            "True <class 'bool'>\n",
            "(4+5j) <class 'complex'>\n",
            "['Apple', 'Banana', 'Kiwi'] <class 'list'>\n"
          ]
        }
      ]
    },
    {
      "cell_type": "markdown",
      "source": [
        "**Taking Input**\n",
        "\n",
        "---"
      ],
      "metadata": {
        "id": "qAcPn_5S410p"
      }
    },
    {
      "cell_type": "code",
      "source": [
        "name = input(\"What is your name?\")\n",
        "print(\"Hello \" + name)\n",
        "print(\"Welcome to our cool Python class\")"
      ],
      "metadata": {
        "colab": {
          "base_uri": "https://localhost:8080/"
        },
        "id": "zgAHYjzd49NT",
        "outputId": "65fe69c4-285b-430a-fdc3-d0a4717d88c4"
      },
      "execution_count": null,
      "outputs": [
        {
          "output_type": "stream",
          "name": "stdout",
          "text": [
            "What is your name?Atharva\n",
            "Hello Atharva\n",
            "Welcome to our cool Python class\n"
          ]
        }
      ]
    },
    {
      "cell_type": "markdown",
      "source": [
        "**Exercise**\n",
        "\n",
        "---\n",
        "\n"
      ],
      "metadata": {
        "id": "9NufMzDp5tv1"
      }
    },
    {
      "cell_type": "markdown",
      "source": [
        "Take Input as name of your favorite superhero"
      ],
      "metadata": {
        "id": "F1f-o65r5xw_"
      }
    },
    {
      "cell_type": "markdown",
      "source": [
        "Print the name of that superhero"
      ],
      "metadata": {
        "id": "sxdI2AGT541i"
      }
    },
    {
      "cell_type": "markdown",
      "source": [
        "Take Superhero as superhero as a variable"
      ],
      "metadata": {
        "id": "_siiwvhk6B5V"
      }
    },
    {
      "cell_type": "code",
      "source": [
        "superhero = input(\"What is your superhero name? \")\n",
        "print('My favorite superhero is ' + superhero)"
      ],
      "metadata": {
        "colab": {
          "base_uri": "https://localhost:8080/"
        },
        "id": "TwYNh4vb6wOr",
        "outputId": "a2f86280-d1a0-4254-d120-b8884a6956dc"
      },
      "execution_count": null,
      "outputs": [
        {
          "output_type": "stream",
          "name": "stdout",
          "text": [
            "What is your superhero name? Hulk\n",
            "My favorite superhero is Hulk\n"
          ]
        }
      ]
    },
    {
      "cell_type": "markdown",
      "source": [
        "**Type Conversion**\n",
        "\n",
        "---\n",
        "\n"
      ],
      "metadata": {
        "id": "Y_dtd6aX73j2"
      }
    },
    {
      "cell_type": "code",
      "source": [
        "old_age = input(\"Enter your age : \")\n",
        "#new_age = old_age + 2\n",
        "#print(new_age)\n",
        "\n",
        "new_age = float(old_age) + 2\n",
        "print(new_age)\n",
        "\n",
        "\n",
        "#Useful converion functions\n",
        "   # 1. float()\n",
        "   # 2. bool()\n",
        "   # 3. str()\n",
        "   # 4. int()\n"
      ],
      "metadata": {
        "colab": {
          "base_uri": "https://localhost:8080/"
        },
        "id": "Fr3jF2if79Fx",
        "outputId": "8a701062-c9eb-4512-c415-c82b1e622e2e"
      },
      "execution_count": null,
      "outputs": [
        {
          "output_type": "stream",
          "name": "stdout",
          "text": [
            "Enter your age : 30\n",
            "32.0\n"
          ]
        }
      ]
    },
    {
      "cell_type": "markdown",
      "source": [
        "**Code for Sum of 2 Numbers**\n",
        "\n",
        "---\n",
        "\n"
      ],
      "metadata": {
        "id": "UAQBFZa8AVnu"
      }
    },
    {
      "cell_type": "code",
      "source": [
        "first_number = input(\"Enter 1st number : \")\n",
        "second_number = input(\"Enter 2nd number : \")\n",
        "sum = float(first_number) + float(second_number)\n",
        "\n",
        "print(\"the sum is : \" + str(sum))"
      ],
      "metadata": {
        "colab": {
          "base_uri": "https://localhost:8080/"
        },
        "id": "B9ZbVM8qAcFl",
        "outputId": "c66d2666-478a-4a0f-ad9c-b754bfe89f76"
      },
      "execution_count": null,
      "outputs": [
        {
          "output_type": "stream",
          "name": "stdout",
          "text": [
            "Enter 1st number : 10\n",
            "Enter 2nd number : 20\n",
            "the sum is : 30.0\n"
          ]
        }
      ]
    },
    {
      "cell_type": "markdown",
      "source": [
        "**Strings**\n",
        "\n",
        "---\n",
        "\n"
      ],
      "metadata": {
        "id": "nUt3DXkrBXAU"
      }
    },
    {
      "cell_type": "code",
      "source": [
        "name = \"Tony Stark\"\n",
        "print(name.upper())\n",
        "print(name)\n",
        "print(name[1])\n",
        "\n",
        "print(name.lower())\n",
        "print(name)\n",
        "\n",
        "print(name.find('y'))\n",
        "print(name.find('Y'))\n",
        "print(name.find(\"Stark\"))\n",
        "print(name.find(\"stark\"))\n",
        "\n",
        "print(name.replace(\"Tony Stark\", \"Ironman\"))\n",
        "print(name)\n",
        "\n",
        "#to check if a character/string is part of the main string\n",
        "print(\"Stark\" in name)\n",
        "print(\"S\" in name)\n",
        "print(\"s\" in name)"
      ],
      "metadata": {
        "colab": {
          "base_uri": "https://localhost:8080/"
        },
        "id": "nKQ3v5OZAjvI",
        "outputId": "1eaa18f4-6386-42e3-ca7c-16dfcc7e1cbe"
      },
      "execution_count": 4,
      "outputs": [
        {
          "output_type": "stream",
          "name": "stdout",
          "text": [
            "TONY STARK\n",
            "Tony Stark\n",
            "o\n",
            "tony stark\n",
            "Tony Stark\n",
            "3\n",
            "-1\n",
            "5\n",
            "-1\n",
            "Ironman\n",
            "Tony Stark\n",
            "True\n",
            "True\n",
            "False\n"
          ]
        }
      ]
    },
    {
      "cell_type": "code",
      "source": [
        "s = 'abcde'\n",
        "print('s.isalpha ', s.isalpha())\n",
        "print('s.isdigit ', s.isdigit())\n",
        "print('s.islower ', s.islower())\n",
        "print('s.isupper ', s.isupper())\n",
        "\n",
        "print('s.lower ', s.lower())\n",
        "print('s.upper ', s.upper())"
      ],
      "metadata": {
        "colab": {
          "base_uri": "https://localhost:8080/"
        },
        "id": "0TJVoFXWmDXg",
        "outputId": "bc58ed80-f6e8-4e08-fb1c-93c6cee3138d"
      },
      "execution_count": 5,
      "outputs": [
        {
          "output_type": "stream",
          "name": "stdout",
          "text": [
            "s.isalpha  True\n",
            "s.isdigit  False\n",
            "s.islower  True\n",
            "s.isupper  False\n",
            "s.lower  abcde\n",
            "s.upper  ABCDE\n"
          ]
        }
      ]
    },
    {
      "cell_type": "markdown",
      "source": [
        "Arithmetic **Operators**\n",
        "\n",
        "---\n",
        "\n"
      ],
      "metadata": {
        "id": "JE0IyouvB8lH"
      }
    },
    {
      "cell_type": "code",
      "source": [
        "print(5 + 2)  \n",
        "print(5 - 2)\n",
        "print(5 * 2)\n",
        "print(5 / 2)\n",
        "print( 5 // 2)\n",
        "print(5 % 2)\n",
        "print(5 ** 2)\n",
        "\n",
        "i = 5\n",
        "i = i + 2\n",
        "i += 2\n",
        "i -= 2\n",
        "i *= 2\n",
        "print(i)\n"
      ],
      "metadata": {
        "colab": {
          "base_uri": "https://localhost:8080/"
        },
        "id": "F2SVLKOhBinB",
        "outputId": "d1b85d7e-fa06-4a33-f090-f248381ba2b9"
      },
      "execution_count": null,
      "outputs": [
        {
          "output_type": "stream",
          "name": "stdout",
          "text": [
            "7\n",
            "3\n",
            "10\n",
            "2.5\n",
            "2\n",
            "1\n",
            "25\n",
            "14\n"
          ]
        }
      ]
    },
    {
      "cell_type": "markdown",
      "source": [
        "**Operator Precedence**\n",
        "\n",
        "---\n",
        "\n"
      ],
      "metadata": {
        "id": "4Y_vPU-nclua"
      }
    },
    {
      "cell_type": "code",
      "source": [
        "result = 3 + 5 * 2   #16 or 13?\n",
        "print(result)"
      ],
      "metadata": {
        "id": "vjO0udR0CG0k",
        "colab": {
          "base_uri": "https://localhost:8080/"
        },
        "outputId": "d72b9a72-eef4-4a06-e7b4-979484faecea"
      },
      "execution_count": null,
      "outputs": [
        {
          "output_type": "stream",
          "name": "stdout",
          "text": [
            "13\n"
          ]
        }
      ]
    },
    {
      "cell_type": "markdown",
      "source": [
        "**Comments**\n",
        "\n",
        "---\n",
        "\n"
      ],
      "metadata": {
        "id": "jHFEKsvudJXW"
      }
    },
    {
      "cell_type": "code",
      "source": [
        "# This is comment & useful for people reading your code"
      ],
      "metadata": {
        "id": "sItJ8LIZc8nz"
      },
      "execution_count": null,
      "outputs": []
    },
    {
      "cell_type": "markdown",
      "source": [
        "**Comparison Operators**\n",
        "\n",
        "---\n",
        "\n"
      ],
      "metadata": {
        "id": "tO0vK7EGdu3a"
      }
    },
    {
      "cell_type": "code",
      "source": [
        "# 1 > 5\n",
        "# 1 < 5\n",
        "# 1 >= 5\n",
        "# 1 <= 5\n",
        "# 1 != 5\n",
        "# 1 == 5"
      ],
      "metadata": {
        "colab": {
          "base_uri": "https://localhost:8080/"
        },
        "id": "dJF8RNsHd1v_",
        "outputId": "524ddcfe-8214-4512-e343-8bae9aa07526"
      },
      "execution_count": null,
      "outputs": [
        {
          "output_type": "execute_result",
          "data": {
            "text/plain": [
              "False"
            ]
          },
          "metadata": {},
          "execution_count": 5
        }
      ]
    },
    {
      "cell_type": "markdown",
      "source": [
        "**Logical Operators**\n",
        "\n",
        "---\n",
        "\n"
      ],
      "metadata": {
        "id": "mHafKPbbezGH"
      }
    },
    {
      "cell_type": "code",
      "source": [
        "# or -> (at least one is true)\n",
        "# and -> (both are true)\n",
        "# not -> (reverse any value)\n",
        "\n",
        "number = 2\n",
        "print(number > 3)\n",
        "print(number < 3)\n",
        "print(not number > 3)\n",
        "print(not number < 3)\n",
        "\n",
        "print(number > 3 and number > 1)\n",
        "print(number > 3 or  number > 1)"
      ],
      "metadata": {
        "colab": {
          "base_uri": "https://localhost:8080/"
        },
        "id": "9cqJ0K8EeSPx",
        "outputId": "4a8ce4e6-bc70-45e5-a0a8-279c1a8b884e"
      },
      "execution_count": null,
      "outputs": [
        {
          "output_type": "stream",
          "name": "stdout",
          "text": [
            "False\n",
            "True\n",
            "True\n",
            "False\n",
            "False\n",
            "True\n"
          ]
        }
      ]
    },
    {
      "cell_type": "markdown",
      "source": [
        "**If-else statements**\n",
        "\n",
        "---\n",
        "\n"
      ],
      "metadata": {
        "id": "-1icKy7JgG2r"
      }
    },
    {
      "cell_type": "code",
      "source": [
        "age = int(input(\"Enter your age \"))\n",
        "\n",
        "if age >= 18:\n",
        "  print(\"You are an adult\")\n",
        "  print(\"You can vote\")\n",
        "elif age < 3:\n",
        "  print(\"You are a child\")\n",
        "else:\n",
        "  print(\"You are in school\")\n",
        "  print(\"Thank you\")"
      ],
      "metadata": {
        "colab": {
          "base_uri": "https://localhost:8080/"
        },
        "id": "ElG7v8RXgmiA",
        "outputId": "05b13487-7c18-45f3-ca60-884bf27f57ff"
      },
      "execution_count": null,
      "outputs": [
        {
          "output_type": "stream",
          "name": "stdout",
          "text": [
            "Enter your age 10\n",
            "You are in school\n",
            "Thank you\n"
          ]
        }
      ]
    },
    {
      "cell_type": "markdown",
      "source": [
        "**Exercise**\n",
        "\n",
        "---\n",
        "\n"
      ],
      "metadata": {
        "id": "_iMfkkBRiy9T"
      }
    },
    {
      "cell_type": "markdown",
      "source": [
        "Make a simple calculator\n",
        "\n",
        "1.   Take two numbers as input from a user.\n",
        "2.   Using if-else statements perform addition, substraction, multiplication and division of that two numbers.\n",
        "\n"
      ],
      "metadata": {
        "id": "C-b4KaoHi2pY"
      }
    },
    {
      "cell_type": "code",
      "source": [
        "#Our Calculator\n",
        "\n",
        "first = input(\"Enter first number : \")\n",
        "second = input(\"Enter second number : \")\n",
        "first = int(first)\n",
        "second = int(second)\n",
        "print(\"----press keys for operator (+,-,*,/)----------\")\n",
        "operator = input(\"Enter operator : \")\n",
        "\n",
        "if operator == \"+\":\n",
        "   print(first + second)\n",
        "elif operator == \"-\":\n",
        "   print(first - second)\n",
        "elif operator == \"*\":\n",
        "   print(first * second)\n",
        "elif operator == \"/\":\n",
        "   print(first / second)\n",
        "else:\n",
        "   print(\"Invalid Operation\")\n"
      ],
      "metadata": {
        "colab": {
          "base_uri": "https://localhost:8080/"
        },
        "id": "UFwxXy-mhKst",
        "outputId": "11243376-0165-474d-9e45-282e5ea40826"
      },
      "execution_count": null,
      "outputs": [
        {
          "output_type": "stream",
          "name": "stdout",
          "text": [
            "Enter first number : 20\n",
            "Enter second number : 10\n",
            "----press keys for operator (+,-,*,/,%)----------\n",
            "Enter operator : -\n",
            "10\n"
          ]
        }
      ]
    },
    {
      "cell_type": "markdown",
      "source": [
        "**Range in Python**\n",
        "\n",
        "---\n",
        "\n"
      ],
      "metadata": {
        "id": "VzCFTVa7khmm"
      }
    },
    {
      "cell_type": "code",
      "source": [
        "numbers = range(10)\n",
        "print(numbers)\n",
        "\n",
        "#numbers = list(range(10))\n",
        "#print(numbers)"
      ],
      "metadata": {
        "colab": {
          "base_uri": "https://localhost:8080/"
        },
        "id": "1brnBFpmjmwU",
        "outputId": "6178503f-46c7-4b36-99f0-b5f5c3211d89"
      },
      "execution_count": 9,
      "outputs": [
        {
          "output_type": "stream",
          "name": "stdout",
          "text": [
            "range(0, 10)\n"
          ]
        }
      ]
    },
    {
      "cell_type": "markdown",
      "source": [
        "**While Loop**\n",
        "\n",
        "---\n",
        "\n"
      ],
      "metadata": {
        "id": "ezYHKyOpkyp8"
      }
    },
    {
      "cell_type": "code",
      "source": [
        "i = 1\n",
        "while(i <= 5):\n",
        "   print(i)\n",
        "   i = i + 1"
      ],
      "metadata": {
        "colab": {
          "base_uri": "https://localhost:8080/"
        },
        "id": "rv8rU87dlAsd",
        "outputId": "dbbaa23a-701b-4699-b338-50709f98eaac"
      },
      "execution_count": null,
      "outputs": [
        {
          "output_type": "stream",
          "name": "stdout",
          "text": [
            "1\n",
            "2\n",
            "3\n",
            "4\n",
            "5\n"
          ]
        }
      ]
    },
    {
      "cell_type": "markdown",
      "source": [
        "**Print the following pattern:**\n",
        "\n",
        "#  *\n",
        "#  **\n",
        "#  ***\n",
        "#  ****\n",
        "#  ***** \n",
        "\n"
      ],
      "metadata": {
        "id": "pkfonhP-loRZ"
      }
    },
    {
      "cell_type": "code",
      "source": [
        "i = 1\n",
        "while(i <= 5):\n",
        "   print(i * \"*\")\n",
        "   i = i + 1"
      ],
      "metadata": {
        "colab": {
          "base_uri": "https://localhost:8080/"
        },
        "id": "iH3v1exClUfI",
        "outputId": "9fb32cd5-e0fc-4f6f-caba-e6ae2913bfb4"
      },
      "execution_count": null,
      "outputs": [
        {
          "output_type": "stream",
          "name": "stdout",
          "text": [
            "*\n",
            "**\n",
            "***\n",
            "****\n",
            "*****\n"
          ]
        }
      ]
    },
    {
      "cell_type": "code",
      "source": [
        "i = 5\n",
        "while(i >= 1):\n",
        "   print(i * \"*\")\n",
        "   i = i - 1"
      ],
      "metadata": {
        "colab": {
          "base_uri": "https://localhost:8080/"
        },
        "id": "KEU-vn96ldP4",
        "outputId": "584064f5-6bb1-4ade-def9-f0c796057af4"
      },
      "execution_count": null,
      "outputs": [
        {
          "output_type": "stream",
          "name": "stdout",
          "text": [
            "*****\n",
            "****\n",
            "***\n",
            "**\n",
            "*\n"
          ]
        }
      ]
    },
    {
      "cell_type": "markdown",
      "source": [
        "**For Loop**\n",
        "\n",
        "---\n",
        "\n"
      ],
      "metadata": {
        "id": "0ISoCD_Zp-5_"
      }
    },
    {
      "cell_type": "code",
      "source": [
        "for i in range(5):\n",
        "   print(i)\n",
        "   i = i + 1\n",
        "\n",
        "for i in range(5):\n",
        "   print(i * \"*\")\n",
        "   i = i + 1"
      ],
      "metadata": {
        "colab": {
          "base_uri": "https://localhost:8080/"
        },
        "id": "JvM72tVClkIg",
        "outputId": "47d73a6f-1c5b-4109-9689-7868b4800aa3"
      },
      "execution_count": null,
      "outputs": [
        {
          "output_type": "stream",
          "name": "stdout",
          "text": [
            "0\n",
            "1\n",
            "2\n",
            "3\n",
            "4\n",
            "\n",
            "*\n",
            "**\n",
            "***\n",
            "****\n"
          ]
        }
      ]
    },
    {
      "cell_type": "markdown",
      "source": [
        "**Lists**\n",
        "\n",
        "---\n",
        "\n"
      ],
      "metadata": {
        "id": "mtK4ftkwrrfk"
      }
    },
    {
      "cell_type": "code",
      "source": [
        "friends = [\"amar\", \"akbar\", \"anthony\"]\n",
        "print(friends[0])\n",
        "print(friends[1])\n",
        "print(friends[-1])\n",
        "print(friends[-2])\n",
        "\n",
        "friends[0] = \"aman\"\n",
        "print(friends)\n",
        "\n",
        "print(friends[0:2]) #returns a new list\n",
        "\n",
        "for friend in friends:\n",
        "   print(friend)\n"
      ],
      "metadata": {
        "colab": {
          "base_uri": "https://localhost:8080/"
        },
        "id": "zfojDsOTqFcw",
        "outputId": "ba1c2ef6-06fc-47dd-b453-3a068c241ff3"
      },
      "execution_count": null,
      "outputs": [
        {
          "output_type": "stream",
          "name": "stdout",
          "text": [
            "amar\n",
            "akbar\n",
            "anthony\n",
            "akbar\n",
            "['aman', 'akbar', 'anthony']\n",
            "['aman', 'akbar']\n",
            "aman\n",
            "akbar\n",
            "anthony\n"
          ]
        }
      ]
    },
    {
      "cell_type": "markdown",
      "source": [
        "**List Methods**\n",
        "\n",
        "---\n",
        "\n"
      ],
      "metadata": {
        "id": "gEkEwG9NsSmQ"
      }
    },
    {
      "cell_type": "code",
      "source": [
        "marks = [\"english\", 95, \"chemistry\", 98]\n",
        "marks.append(\"physics\")\n",
        "marks.append(97)\n",
        "print(marks)\n",
        "\n",
        "marks.insert(0, \"math\")\n",
        "marks.insert(1, 99)\n",
        "print(marks)\n",
        "\n",
        "print(\"math\" in marks)\n",
        "\n",
        "print(len(marks)/2)\n",
        "\n",
        "print(marks)\n",
        "\n",
        "i = 0\n",
        "while i < len(marks):\n",
        "   print(marks[i])\n",
        "   print(marks[i+1])\n",
        "   i = i + 2\n"
      ],
      "metadata": {
        "colab": {
          "base_uri": "https://localhost:8080/"
        },
        "id": "9uMUIrD4r0bg",
        "outputId": "d13e3518-66cb-4cd0-cb0f-7b319080383e"
      },
      "execution_count": null,
      "outputs": [
        {
          "output_type": "stream",
          "name": "stdout",
          "text": [
            "['english', 95, 'chemistry', 98, 'physics', 97]\n",
            "['math', 99, 'english', 95, 'chemistry', 98, 'physics', 97]\n",
            "True\n",
            "4.0\n",
            "['math', 99, 'english', 95, 'chemistry', 98, 'physics', 97]\n",
            "math\n",
            "99\n",
            "english\n",
            "95\n",
            "chemistry\n",
            "98\n",
            "physics\n",
            "97\n"
          ]
        }
      ]
    },
    {
      "cell_type": "markdown",
      "source": [
        "**Break & Continue**\n",
        "\n",
        "---\n",
        "\n"
      ],
      "metadata": {
        "id": "BOpphEYNtdRQ"
      }
    },
    {
      "cell_type": "code",
      "source": [
        "students = [\"ram\", \"shyam\", \"kishan\", \"radha\", \"radhika\"]\n",
        "\n",
        "for student in students:\n",
        "   if(student == \"radha\"):\n",
        "       break\n",
        "   print(student)\n",
        "\n",
        "for student in students:\n",
        "   if(student == \"kishan\"):\n",
        "       continue\n",
        "   print(student)"
      ],
      "metadata": {
        "colab": {
          "base_uri": "https://localhost:8080/"
        },
        "id": "Vl5Uzq9ksZII",
        "outputId": "e3998926-532c-4731-c4f6-9359c1258c9b"
      },
      "execution_count": null,
      "outputs": [
        {
          "output_type": "stream",
          "name": "stdout",
          "text": [
            "ram\n",
            "shyam\n",
            "kishan\n",
            "ram\n",
            "shyam\n",
            "radha\n",
            "radhika\n"
          ]
        }
      ]
    },
    {
      "cell_type": "markdown",
      "source": [
        "**Tuples**\n",
        "\n",
        "---\n",
        "\n"
      ],
      "metadata": {
        "id": "dViL8gD8uF5i"
      }
    },
    {
      "cell_type": "code",
      "source": [
        "marks = (95, 98, 97, 97)\n",
        "#marks[0] = 98\n",
        "\n",
        "print(marks.count(97))\n",
        "print(marks.index(97))"
      ],
      "metadata": {
        "colab": {
          "base_uri": "https://localhost:8080/"
        },
        "id": "WUky7OqhtlBE",
        "outputId": "4eac7d81-6b9d-4c67-b87a-5ef72af1853f"
      },
      "execution_count": null,
      "outputs": [
        {
          "output_type": "stream",
          "name": "stdout",
          "text": [
            "2\n",
            "2\n"
          ]
        }
      ]
    },
    {
      "cell_type": "markdown",
      "source": [
        "**Sets**\n",
        "\n",
        "---\n",
        "\n"
      ],
      "metadata": {
        "id": "Zq3Ya9V7uXX0"
      }
    },
    {
      "cell_type": "code",
      "source": [
        "marks = {98, 97, 95, 95}\n",
        "print(marks)\n",
        "\n",
        "for score in marks:\n",
        "   print(score)"
      ],
      "metadata": {
        "colab": {
          "base_uri": "https://localhost:8080/"
        },
        "id": "lakB3PBiuNPl",
        "outputId": "5d990498-7da9-4cdd-d4af-98361ebcd480"
      },
      "execution_count": null,
      "outputs": [
        {
          "output_type": "stream",
          "name": "stdout",
          "text": [
            "{97, 98, 95}\n",
            "97\n",
            "98\n",
            "95\n"
          ]
        }
      ]
    },
    {
      "cell_type": "markdown",
      "source": [
        "**Dictionary**\n",
        "\n",
        "---\n",
        "\n"
      ],
      "metadata": {
        "id": "y5j8EV9gui52"
      }
    },
    {
      "cell_type": "code",
      "source": [
        "marks = {\"math\" : 99, \"chemistry\" : 98, \"physics\" : 97}\n",
        "print(marks)\n",
        "print(marks[\"chemistry\"])\n",
        "\n",
        "marks[\"english\"] = 95\n",
        "print(marks)\n",
        "\n",
        "marks[\"math\"] = 96\n",
        "print(marks)"
      ],
      "metadata": {
        "colab": {
          "base_uri": "https://localhost:8080/"
        },
        "id": "2NMb-R3Sub1d",
        "outputId": "fecd2bb7-8774-41ac-ed0b-3a383a77dae6"
      },
      "execution_count": null,
      "outputs": [
        {
          "output_type": "stream",
          "name": "stdout",
          "text": [
            "{'math': 99, 'chemistry': 98, 'physics': 97}\n",
            "98\n",
            "{'math': 99, 'chemistry': 98, 'physics': 97, 'english': 95}\n",
            "{'math': 96, 'chemistry': 98, 'physics': 97, 'english': 95}\n"
          ]
        }
      ]
    },
    {
      "cell_type": "markdown",
      "source": [
        "**Functions in Python**\n",
        "\n",
        "---\n",
        "\n"
      ],
      "metadata": {
        "id": "-PpFLtdOvAp-"
      }
    },
    {
      "cell_type": "code",
      "source": [
        "# In-built functions\n",
        "# int() str() float() min() range() max()"
      ],
      "metadata": {
        "id": "X95Q8-h0ur9V"
      },
      "execution_count": null,
      "outputs": []
    },
    {
      "cell_type": "code",
      "source": [
        "# Module functions\n",
        "import math\n",
        "print(dir(math))\n",
        "print(math.pi)\n",
        "\n",
        "import random\n",
        "print(dir(random))\n",
        "\n",
        "import string\n",
        "print(dir(string))\n",
        "\n",
        "from math import sqrt\n",
        "print(sqrt(4))"
      ],
      "metadata": {
        "colab": {
          "base_uri": "https://localhost:8080/"
        },
        "id": "6wk7oA9rwOyU",
        "outputId": "60d8c598-4f09-4712-8164-7df4ee2a6b46"
      },
      "execution_count": 10,
      "outputs": [
        {
          "output_type": "stream",
          "name": "stdout",
          "text": [
            "['__doc__', '__loader__', '__name__', '__package__', '__spec__', 'acos', 'acosh', 'asin', 'asinh', 'atan', 'atan2', 'atanh', 'ceil', 'copysign', 'cos', 'cosh', 'degrees', 'e', 'erf', 'erfc', 'exp', 'expm1', 'fabs', 'factorial', 'floor', 'fmod', 'frexp', 'fsum', 'gamma', 'gcd', 'hypot', 'inf', 'isclose', 'isfinite', 'isinf', 'isnan', 'ldexp', 'lgamma', 'log', 'log10', 'log1p', 'log2', 'modf', 'nan', 'pi', 'pow', 'radians', 'remainder', 'sin', 'sinh', 'sqrt', 'tan', 'tanh', 'tau', 'trunc']\n",
            "3.141592653589793\n",
            "['BPF', 'LOG4', 'NV_MAGICCONST', 'RECIP_BPF', 'Random', 'SG_MAGICCONST', 'SystemRandom', 'TWOPI', '_BuiltinMethodType', '_MethodType', '_Sequence', '_Set', '__all__', '__builtins__', '__cached__', '__doc__', '__file__', '__loader__', '__name__', '__package__', '__spec__', '_acos', '_bisect', '_ceil', '_cos', '_e', '_exp', '_inst', '_itertools', '_log', '_os', '_pi', '_random', '_sha512', '_sin', '_sqrt', '_test', '_test_generator', '_urandom', '_warn', 'betavariate', 'choice', 'choices', 'expovariate', 'gammavariate', 'gauss', 'getrandbits', 'getstate', 'lognormvariate', 'normalvariate', 'paretovariate', 'randint', 'random', 'randrange', 'sample', 'seed', 'setstate', 'shuffle', 'triangular', 'uniform', 'vonmisesvariate', 'weibullvariate']\n",
            "['Formatter', 'Template', '_ChainMap', '_TemplateMetaclass', '__all__', '__builtins__', '__cached__', '__doc__', '__file__', '__loader__', '__name__', '__package__', '__spec__', '_re', '_string', 'ascii_letters', 'ascii_lowercase', 'ascii_uppercase', 'capwords', 'digits', 'hexdigits', 'octdigits', 'printable', 'punctuation', 'whitespace']\n",
            "2.0\n"
          ]
        }
      ]
    },
    {
      "cell_type": "code",
      "source": [
        "# User-defined functions\n",
        "def sum(a, b=4):\n",
        "   print(a + b)\n",
        "\n",
        "sum(1, 2)\n",
        "sum(1)"
      ],
      "metadata": {
        "colab": {
          "base_uri": "https://localhost:8080/"
        },
        "id": "gp6IO8uBwbaz",
        "outputId": "b1448a9e-ea9c-43d2-d41b-d37f7331c6f4"
      },
      "execution_count": null,
      "outputs": [
        {
          "output_type": "stream",
          "name": "stdout",
          "text": [
            "3\n",
            "5\n"
          ]
        }
      ]
    },
    {
      "cell_type": "code",
      "source": [],
      "metadata": {
        "id": "bUQHngzQwiDv"
      },
      "execution_count": null,
      "outputs": []
    }
  ]
}